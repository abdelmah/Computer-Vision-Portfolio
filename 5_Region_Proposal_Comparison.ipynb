{
 "cells": [
  {
   "cell_type": "code",
   "execution_count": 1,
   "metadata": {},
   "outputs": [],
   "source": [
    "# USAGE\n",
    "# python region_proposal_detection.py --image beagle.png\n",
    "\n",
    "# import the necessary packages\n",
    "from tensorflow.keras.applications import ResNet50\n",
    "from tensorflow.keras.applications.resnet50 import preprocess_input\n",
    "from tensorflow.keras.applications import imagenet_utils\n",
    "from tensorflow.keras.preprocessing.image import img_to_array\n",
    "from imutils.object_detection import non_max_suppression\n",
    "\n",
    "import numpy as np\n",
    "import argparse\n",
    "import cv2\n",
    "\n",
    "import matplotlib.pyplot as plt\n"
   ]
  },
  {
   "cell_type": "code",
   "execution_count": 1,
   "metadata": {},
   "outputs": [],
   "source": [
    "# Example execution\n",
    "args = dict()\n",
    "args['image'] = 'data/test.jpg'\n",
    "args['method'] = 'fast'   # Other choice is quality\n",
    "args['conf'] = 0.9\n",
    "args['filter'] = None"
   ]
  },
  {
   "cell_type": "code",
   "execution_count": 3,
   "metadata": {},
   "outputs": [],
   "source": [
    "def selective_search(image, method=\"fast\"):\n",
    "\t# initialize OpenCV's selective search implementation and set the\n",
    "\t# input image\n",
    "\tss = cv2.ximgproc.segmentation.createSelectiveSearchSegmentation()\n",
    "\tss.setBaseImage(image)\n",
    "\n",
    "\t# check to see if we are using the *fast* but *less accurate* version\n",
    "\t# of selective search\n",
    "\tif method == \"fast\":\n",
    "\t\tss.switchToSelectiveSearchFast()\n",
    "\n",
    "\t# otherwise we are using the *slower* but *more accurate* version\n",
    "\telse:\n",
    "\t\tss.switchToSelectiveSearchQuality()\n",
    "\n",
    "\t# run selective search on the input image\n",
    "\trects = ss.process()\n",
    "\n",
    "\t# return the region proposal bounding boxes\n",
    "\treturn rects"
   ]
  },
  {
   "cell_type": "code",
   "execution_count": 4,
   "metadata": {},
   "outputs": [
    {
     "name": "stdout",
     "output_type": "stream",
     "text": [
      "[INFO] performing selective search with 'fast' method...\n",
      "2.163592086 seconds\n",
      "[INFO] 2489 regions found by selective search\n"
     ]
    }
   ],
   "source": [
    "# speed-up using multithreads\n",
    "#cv2.setUseOptimized(True);\n",
    "#cv2.setNumThreads(4);\n",
    "\n",
    "args['method'] = 'fast'   # Other choice is quality\n",
    "\n",
    "# load the input image from disk and grab its dimensions\n",
    "image = cv2.imread(args['image'])\n",
    "(H, W) = image.shape[:2]\n",
    "\n",
    "# run selective search on the input image\n",
    "print(\"[INFO] performing selective search with '{}' method...\".format(\n",
    "\targs[\"method\"]))\n",
    "\n",
    "e1 = cv2.getTickCount()\n",
    "rects = selective_search(image, method=args[\"method\"])\n",
    "e2 = cv2.getTickCount()\n",
    "\n",
    "time = (e2 - e1)/ cv2.getTickFrequency()\n",
    "\n",
    "print( time, \"seconds\")\n",
    "\n",
    "\n",
    "print(\"[INFO] {} regions found by selective search\".format(len(rects)))\n",
    "\n",
    "selectiveWindowsFast = len(rects)\n",
    "# get number of windows for the quality selective search\n",
    "rects = selective_search(image, method='quality')\n",
    "selectiveWindowsQuality = len(rects)"
   ]
  },
  {
   "cell_type": "code",
   "execution_count": 5,
   "metadata": {},
   "outputs": [],
   "source": [
    "def windowSearch(windowSize, S, image):\n",
    "    \n",
    "    # create a new list for rectangles to be used by the roi function later\n",
    "    rects = []\n",
    "    \n",
    "    # loop through the entire image by stride S and add this rectangle to the list\n",
    "    for y in range(0, (image.shape[0] - windowSize[0]), S):\n",
    "        for x in range(0, (image.shape[1] - windowSize[1]), S):\n",
    "            rects.append((x, y, windowSize[0], windowSize[1]))\n",
    "    \n",
    "    return rects"
   ]
  },
  {
   "cell_type": "code",
   "execution_count": 6,
   "metadata": {},
   "outputs": [
    {
     "name": "stdout",
     "output_type": "stream",
     "text": [
      "[215158, 53879, 13590, 3420, 874, 228]  Number of Window Search Windows Found\n",
      "2489  Number of Selective Search Fast Windows Found\n",
      "9936  Number of Selective Search Quality Windows Found\n"
     ]
    },
    {
     "data": {
      "image/png": "[encoded data removed]",
      "text/plain": [
       "<Figure size 432x288 with 1 Axes>"
      ]
     },
     "metadata": {
      "needs_background": "light"
     },
     "output_type": "display_data"
    }
   ],
   "source": [
    "S = [1, 2, 4, 8, 16, 32]\n",
    "windowSize = (128, 128)\n",
    "numWindows = []\n",
    "for stride in S:\n",
    "    numWindows.append(len(windowSearch(windowSize, stride, image)))\n",
    "\n",
    "print(numWindows, ' Number of Window Search Windows Found')\n",
    "print(selectiveWindowsFast, ' Number of Selective Search Fast Windows Found')\n",
    "print(selectiveWindowsQuality, ' Number of Selective Search Quality Windows Found')\n",
    "\n",
    "\n",
    "plt.title('Window Numbers')\n",
    "plt.xlabel('Strides')\n",
    "plt.plot(S, numWindows, color='orange', label='Windowing')\n",
    "plt.plot(S, [selectiveWindowsFast for x in range(0, len(S))], color='blue', label='Selective Fast')\n",
    "plt.plot(S, [selectiveWindowsQuality for x in range(0, len(S))], color='red', label='Selective Quality')\n",
    "plt.legend()\n",
    "plt.show()"
   ]
  },
  {
   "cell_type": "markdown",
   "metadata": {},
   "source": [
    "### Preliminary Testing Results\n",
    "\n",
    "So far we found the number of windows to use for our classifier in the future. We can see the selective search takes a much longer time to create a list of search areas, however the list tends to be shorter than the smaller strides of the windowing approach. Using a very small stride shows an extremely large amount of windows to be searched and would later slow down our classifier as it has a lot more to sift through"
   ]
  },
  {
   "cell_type": "code",
   "execution_count": 7,
   "metadata": {},
   "outputs": [],
   "source": [
    "def roiFilter(rects, size=(224, 224)):\n",
    "    # initialize the list of region proposals that we'll be classifying\n",
    "    # along with their associated bounding boxes\n",
    "    proposals = []\n",
    "    boxes = []\n",
    "\n",
    "    # loop over the region proposal bounding box coordinates generated by\n",
    "    # running selective search\n",
    "    for (x, y, w, h) in rects:\n",
    "        # if the width or height of the region is less than 10% of the\n",
    "        # image width or height, ignore it (i.e., filter out small\n",
    "        # objects that are likely false-positives)\n",
    "        if w / float(W) < 0.1 or h / float(H) < 0.1:\n",
    "            continue\n",
    "\n",
    "        # extract the region from the input image, convert it from BGR to\n",
    "        # RGB channel ordering, and then resize it to 224x224 (the input\n",
    "        # dimensions required by our pre-trained CNN)\n",
    "        roi = image[y:y + h, x:x + w]\n",
    "        roi = cv2.cvtColor(roi, cv2.COLOR_BGR2RGB)\n",
    "        roi = cv2.resize(roi, size)\n",
    "\n",
    "        # further preprocess by the ROI\n",
    "        roi = img_to_array(roi)\n",
    "        roi = preprocess_input(roi)\n",
    "\n",
    "        # update our proposals and bounding boxes lists\n",
    "        proposals.append(roi)\n",
    "        boxes.append((x, y, w, h))\n",
    "\n",
    "    # convert the proposals list into NumPy array and show its dimensions\n",
    "    proposals = np.array(proposals)\n",
    "    print(\"[INFO] proposal shape: {}\".format(proposals.shape))\n",
    "    \n",
    "    return proposals, boxes"
   ]
  },
  {
   "cell_type": "code",
   "execution_count": 8,
   "metadata": {},
   "outputs": [
    {
     "name": "stdout",
     "output_type": "stream",
     "text": [
      "[INFO] loading ResNet...\n"
     ]
    }
   ],
   "source": [
    "# grab the label filters command line argument\n",
    "labelFilters = args[\"filter\"]\n",
    "\n",
    "# if the label filter is not empty, break it into a list\n",
    "if labelFilters is not None:\n",
    "\tlabelFilters = labelFilters.lower().split(\",\")\n",
    "    \n",
    "# load ResNet from disk (with weights pre-trained on ImageNet)\n",
    "print(\"[INFO] loading ResNet...\")\n",
    "model = ResNet50(weights=\"imagenet\")"
   ]
  },
  {
   "cell_type": "code",
   "execution_count": 9,
   "metadata": {},
   "outputs": [],
   "source": [
    "# Setting this will limit the search to just one category\n",
    "labelFilters = ['beagle']\n",
    "confidence = args[\"conf\"]     # 0.90 is the default from args"
   ]
  },
  {
   "cell_type": "code",
   "execution_count": 23,
   "metadata": {},
   "outputs": [],
   "source": [
    "def labelBoxes(preds, boxes, labelFilters, confidence):\n",
    "    # initialize a dictionary which maps class labels (keys) to any\n",
    "    # bounding box associated with that label (values)\n",
    "    labels = {}\n",
    "    filterRemoved = 0\n",
    "        \n",
    "    # loop over the predictions\n",
    "    for (i, p) in enumerate(preds):\n",
    "        # grab the prediction information for the current region proposal\n",
    "        (imagenetID, label, prob) = p[0]\n",
    "\n",
    "        # only if the label filters are not empty *and* the label does not\n",
    "        # exist in the list, then ignore it\n",
    "        if labelFilters is not None and label not in labelFilters:\n",
    "            filterRemoved = filterRemoved + 1\n",
    "            continue\n",
    "\n",
    "        # filter out weak detections by ensuring the predicted probability\n",
    "        # is greater than the minimum probability\n",
    "        if prob >= confidence:\n",
    "            # grab the bounding box associated with the prediction and\n",
    "            # convert the coordinates\n",
    "            (x, y, w, h) = boxes[i]\n",
    "            box = (x, y, x + w, y + h)\n",
    "\n",
    "            # grab the list of predictions for the label and add the\n",
    "            # bounding box + probability to the list\n",
    "            L = labels.get(label, [])\n",
    "            L.append((box, prob))\n",
    "            labels[label] = L\n",
    "\n",
    "    return labels, filterRemoved"
   ]
  },
  {
   "cell_type": "code",
   "execution_count": 11,
   "metadata": {},
   "outputs": [
    {
     "name": "stdout",
     "output_type": "stream",
     "text": [
      "[INFO] proposal shape: (877, 224, 224, 3)\n",
      "[INFO] classifying proposals...\n",
      "[INFO] proposal shape: (4173, 224, 224, 3)\n",
      "[INFO] classifying proposals...\n",
      "[2489, 877, 167, 31, 3]  Regions at each stage Fast\n",
      "[9936, 4173, 1054, 245, 3]  Regions at each stage Quality\n"
     ]
    }
   ],
   "source": [
    "# create lists to keep track of the amount of regions we are interested in\n",
    "selectiveWindowsFast = []\n",
    "selectiveWindowsQuality = []\n",
    "\n",
    "# --- Test the Fast setting ---\n",
    "rects = selective_search(image, method='fast')\n",
    "selectiveWindowsFast.append(len(rects))\n",
    "proposals, boxes = roiFilter(rects)\n",
    "selectiveWindowsFast.append(len(proposals))\n",
    "\n",
    "# classify each of the proposal ROIs using ResNet and then decode the\n",
    "# predictions\n",
    "print(\"[INFO] classifying proposals...\")\n",
    "preds = model.predict(proposals)\n",
    "preds = imagenet_utils.decode_predictions(preds, top=1)\n",
    "\n",
    "labels, numRemoved = labelBoxes(preds, boxes, labelFilters, confidence)\n",
    "# keep track of the number of proposals after filtering labels\n",
    "selectiveWindowsFast.append(selectiveWindowsFast[-1] - numRemoved)\n",
    "selectiveWindowsFast.append(len(labels['beagle']))\n",
    "# Run non-max supression\n",
    "for label in labels.keys():\n",
    "    boxes = np.array([p[0] for p in labels[label]])\n",
    "    proba = np.array([p[1] for p in labels[label]])\n",
    "    boxes = non_max_suppression(boxes, proba)\n",
    "selectiveWindowsFast.append(len(boxes))\n",
    "\n",
    "\n",
    "# --- Test the quality setting ---\n",
    "rects = selective_search(image, method='quality')\n",
    "selectiveWindowsQuality.append(len(rects))\n",
    "proposals, boxes = roiFilter(rects)\n",
    "\n",
    "# classify each of the proposal ROIs using ResNet and then decode the\n",
    "# predictions\n",
    "print(\"[INFO] classifying proposals...\")\n",
    "preds = model.predict(proposals)\n",
    "preds = imagenet_utils.decode_predictions(preds, top=1)\n",
    "\n",
    "selectiveWindowsQuality.append(len(proposals))\n",
    "labels, numRemoved = labelBoxes(preds, boxes, labelFilters, confidence)\n",
    "selectiveWindowsQuality.append(selectiveWindowsQuality[-1] - numRemoved)\n",
    "selectiveWindowsQuality.append(len(labels['beagle']))\n",
    "# Run non-max supression\n",
    "for label in labels.keys():\n",
    "    boxes = np.array([p[0] for p in labels[label]])\n",
    "    proba = np.array([p[1] for p in labels[label]])\n",
    "    boxes = non_max_suppression(boxes, proba)\n",
    "selectiveWindowsQuality.append(len(boxes))\n",
    "\n",
    "print(selectiveWindowsFast, ' Regions at each stage Fast')\n",
    "print(selectiveWindowsQuality, ' Regions at each stage Quality')"
   ]
  },
  {
   "cell_type": "code",
   "execution_count": 12,
   "metadata": {},
   "outputs": [
    {
     "data": {
      "image/png": "[encoded data removed]",
      "text/plain": [
       "<Figure size 432x288 with 1 Axes>"
      ]
     },
     "metadata": {
      "needs_background": "light"
     },
     "output_type": "display_data"
    }
   ],
   "source": [
    "stages = ['Search', 'Small Window', 'Non-Class', 'Confidence', 'After NMS']\n",
    "plt.title('Region Numbers')\n",
    "plt.xlabel('Stage')\n",
    "plt.plot(stages, selectiveWindowsFast, color='orange', label='Fast')\n",
    "plt.plot(stages, selectiveWindowsQuality, color='blue', label='Quality')\n",
    "plt.legend()\n",
    "plt.show()"
   ]
  },
  {
   "cell_type": "markdown",
   "metadata": {},
   "source": [
    "### Region analysis\n",
    "We started by running the selective search and then slowly widdling the results down futher step by step. The above graph shows the number of regions we're interested in at each step. Interestingly enough, we observe that both the fast and the quality reduced down to the same number of final regions at the end even though it was very obvious while running the code how much faster the \"fast\" setting was at completing the task. We will explore this timing further later."
   ]
  },
  {
   "cell_type": "code",
   "execution_count": 13,
   "metadata": {},
   "outputs": [
    {
     "name": "stdout",
     "output_type": "stream",
     "text": [
      "[INFO] proposal shape: (877, 224, 224, 3)\n",
      "[INFO] proposal shape: (4173, 224, 224, 3)\n"
     ]
    }
   ],
   "source": [
    "confidenceFast = []\n",
    "confidenceQuality = []\n",
    "confidence = [0.7, 0.74, 0.78, 0.81, 0.84, 0.87, 0.90, 0.93, 0.96, 0.99]\n",
    "\n",
    "rects = selective_search(image, method='fast')\n",
    "proposals, boxes = roiFilter(rects)\n",
    "# classify each of the proposal ROIs using ResNet and then decode the\n",
    "# predictions\n",
    "preds = model.predict(proposals)\n",
    "preds = imagenet_utils.decode_predictions(preds, top=1)\n",
    "for conf in confidence:\n",
    "    labels, _ = labelBoxes(preds, boxes, labelFilters, conf)\n",
    "    try:\n",
    "        confidenceFast.append(len(labels['beagle']))\n",
    "    except:\n",
    "        confidenceFast.append(0)\n",
    "        \n",
    "\n",
    "rects = selective_search(image, method='quality')\n",
    "proposals, boxes = roiFilter(rects)\n",
    "# classify each of the proposal ROIs using ResNet and then decode the\n",
    "# predictions\n",
    "preds = model.predict(proposals)\n",
    "preds = imagenet_utils.decode_predictions(preds, top=1)\n",
    "for conf in confidence:\n",
    "    labels, _ = labelBoxes(preds, boxes, labelFilters, conf)\n",
    "    try:\n",
    "        confidenceQuality.append(len(labels['beagle']))\n",
    "    except:\n",
    "        confidenceQuality.append(0)"
   ]
  },
  {
   "cell_type": "code",
   "execution_count": 14,
   "metadata": {},
   "outputs": [
    {
     "data": {
      "image/png": "[encoded data removed]",
      "text/plain": [
       "<Figure size 432x288 with 1 Axes>"
      ]
     },
     "metadata": {
      "needs_background": "light"
     },
     "output_type": "display_data"
    }
   ],
   "source": [
    "plt.title('Regions After Confidence Filter')\n",
    "plt.xlabel('Confidence Level')\n",
    "plt.plot(confidence, confidenceFast, color='orange', label='Fast')\n",
    "plt.plot(confidence, confidenceQuality, color='blue', label='Quality')\n",
    "plt.legend()\n",
    "plt.show()"
   ]
  },
  {
   "cell_type": "markdown",
   "metadata": {},
   "source": [
    "### Confidence Effect on Regions\n",
    "Here we cycled through many options for the level of confidence we wanted to rule out boxes that don't meet this level. It was tested with both the 'fast' and 'quality' versions of the selective search algorithm. As can be seen in the above graph, we observe a close to linear relationship between the number of regions still left, and the confidence level we required. It turns out a confidence level of 0.99 was too high for both as they no longer had any regions left that were above this level."
   ]
  },
  {
   "cell_type": "code",
   "execution_count": 15,
   "metadata": {},
   "outputs": [],
   "source": [
    "# receives in two lists of tuples\n",
    "# [(min corner), (max corner)]\n",
    "def IOU(ground_truth, prediction):\n",
    "    \n",
    "    # find our min/max values of the corners to find differences for intersection\n",
    "    minX = min(ground_truth[1][0], prediction[1][0])\n",
    "    minY = min(ground_truth[1][1], prediction[1][1])\n",
    "\n",
    "    maxX = max(ground_truth[0][0], prediction[0][0])\n",
    "    maxY = max(ground_truth[0][1], prediction[0][1])\n",
    "\n",
    "    # max calculation catches if there is no intersection\n",
    "    intArea = max(0, (minX - maxX)) * max(0, (minY - maxY))\n",
    "\n",
    "    # calculate the area of the two rectangles using the differences beterrn corners\n",
    "    truthArea = (ground_truth[1][0] - ground_truth[0][0]) * (ground_truth[1][1] - ground_truth[0][1])\n",
    "    predictArea = (prediction[1][0] - prediction[0][0]) * (prediction[1][1] - prediction[0][1])\n",
    "\n",
    "    # union area equals both areas minus intersection area\n",
    "    unionArea = truthArea + predictArea - intArea\n",
    "\n",
    "    return(intArea/unionArea)"
   ]
  },
  {
   "cell_type": "code",
   "execution_count": 16,
   "metadata": {},
   "outputs": [],
   "source": [
    "def IOUWrapper(boxes, scoreThresh):\n",
    "    \n",
    "    # count of boxes with < threshold\n",
    "    counter = 0\n",
    "    \n",
    "    # cycle through all the boxes comparing each to the next \n",
    "    for i in range(0, len(boxes)):\n",
    "        box1 = [(boxes[i][0], boxes[i][1]), (boxes[i][2], boxes[i][3])]\n",
    "        subList = []\n",
    "        for j in range(0, len(boxes)):\n",
    "            # skip checking the current against itself\n",
    "            if j == i:\n",
    "                continue\n",
    "            box2 = [(boxes[j][0], boxes[j][1]), (boxes[j][2], boxes[j][3])]\n",
    "            subList.append(IOU(box1, box2))\n",
    "        \n",
    "        count = len([k for k in subList if k > scoreThresh])\n",
    "        if count == 0:\n",
    "            counter = counter + 1\n",
    "    \n",
    "    percentage = (counter / len(boxes)) * 100\n",
    "    \n",
    "    return(percentage)"
   ]
  },
  {
   "cell_type": "code",
   "execution_count": 24,
   "metadata": {},
   "outputs": [
    {
     "name": "stdout",
     "output_type": "stream",
     "text": [
      "[INFO] proposal shape: (877, 224, 224, 3)\n",
      "[INFO] classifying proposals...\n",
      "The percentage of boxes that are above the 25.0 % threshold is: 3.225806451612903 %\n"
     ]
    }
   ],
   "source": [
    "confidence = args[\"conf\"]     # 0.90 is the default from args\n",
    "# score threshold for scoring the IOU comparisions\n",
    "scoreThresh = 0.25\n",
    "\n",
    "rects = selective_search(image, method='fast')\n",
    "proposals, boxes = roiFilter(rects)\n",
    "\n",
    "# classify each of the proposal ROIs using ResNet and then decode the\n",
    "# predictions\n",
    "print(\"[INFO] classifying proposals...\")\n",
    "preds = model.predict(proposals)\n",
    "preds = imagenet_utils.decode_predictions(preds, top=1)\n",
    "\n",
    "labels, _ = labelBoxes(preds, boxes, labelFilters, confidence)\n",
    "# keep track of the number of proposals after filtering labels\n",
    "beforeIOU = len(labels['beagle']) \n",
    "\n",
    "# Run IOU calculation\n",
    "for label in labels.keys():\n",
    "    boxes = np.array([p[0] for p in labels[label]])\n",
    "    #print(boxes)\n",
    "    proba = np.array([p[1] for p in labels[label]])\n",
    "    count = IOUWrapper(boxes, scoreThresh)\n",
    "\n",
    "print(\"The percentage of boxes that are above the\", scoreThresh*100, \"% threshold is:\", count, \"%\")"
   ]
  },
  {
   "cell_type": "markdown",
   "metadata": {},
   "source": [
    "### IOU Comparision\n",
    "In the above few cells we run the beagle matches through an IOU calculation against every other box in the same label. Then the percentage of boxes that have less than the 25% threshold are returned, and it shows to be quite a low number. This shows that about one of the boxes is truly significant, and the others are all overlapping another box by more than 25%"
   ]
  },
  {
   "cell_type": "code",
   "execution_count": 25,
   "metadata": {},
   "outputs": [
    {
     "name": "stdout",
     "output_type": "stream",
     "text": [
      "[INFO] proposal shape: (877, 224, 224, 3)\n",
      "[INFO] classifying proposals...\n",
      "[INFO] proposal shape: (4173, 224, 224, 3)\n",
      "[INFO] classifying proposals...\n"
     ]
    }
   ],
   "source": [
    "# --- Test the Fast setting ---\n",
    "rects = selective_search(image, method='fast')\n",
    "proposals, boxes = roiFilter(rects)\n",
    "\n",
    "e1 = cv2.getTickCount()\n",
    "# classify each of the proposal ROIs using ResNet and then decode the\n",
    "# predictions\n",
    "print(\"[INFO] classifying proposals...\")\n",
    "preds = model.predict(proposals)\n",
    "preds = imagenet_utils.decode_predictions(preds, top=1)\n",
    "e2 = cv2.getTickCount()\n",
    "timeFast = (e2 - e1)/ cv2.getTickFrequency()\n",
    "\n",
    "# --- Test the Quality setting ---\n",
    "rects = selective_search(image, method='quality')\n",
    "proposals, boxes = roiFilter(rects)\n",
    "\n",
    "e1 = cv2.getTickCount()\n",
    "# classify each of the proposal ROIs using ResNet and then decode the\n",
    "# predictions\n",
    "print(\"[INFO] classifying proposals...\")\n",
    "preds = model.predict(proposals)\n",
    "preds = imagenet_utils.decode_predictions(preds, top=1)\n",
    "e2 = cv2.getTickCount()\n",
    "timeQuality = (e2 - e1)/ cv2.getTickFrequency()"
   ]
  },
  {
   "cell_type": "code",
   "execution_count": 26,
   "metadata": {},
   "outputs": [
    {
     "data": {
      "image/png": "[encoded data removed]",
      "text/plain": [
       "<Figure size 432x288 with 2 Axes>"
      ]
     },
     "metadata": {
      "needs_background": "light"
     },
     "output_type": "display_data"
    }
   ],
   "source": [
    "x_label = ['fast', 'quality']\n",
    "times = [timeFast, timeQuality]\n",
    "perProposal = [(timeFast / 877), (timeQuality / 4173)]\n",
    "\n",
    "# create a subplot\n",
    "plt.subplot(1, 2, 1)\n",
    "plt.bar(x_label, times, color='blue', label='Raw')\n",
    "plt.xlabel(\"Algorithm\")\n",
    "plt.ylabel(\"Time [s]\")\n",
    "plt.title(\"Prediction Time for Selective Search\")\n",
    "plt.subplot(1, 2, 2)\n",
    "plt.bar(x_label, perProposal, color='red', label='Raw')\n",
    "plt.xlabel(\"Algorithm\")\n",
    "plt.ylabel(\"Time [s]\")\n",
    "plt.title(\"Prediction Time Per Proposal\")\n",
    "plt.tight_layout()\n",
    "\n",
    "plt.show()"
   ]
  },
  {
   "cell_type": "markdown",
   "metadata": {},
   "source": [
    "### Prediction Timing\n",
    "Like we noticed before, the prediction function runs much quicker with fewer regions to analyze. The timing remains linear as we can see in the \"prediction time per proposal\" being essentially the same between the two. This is showing the time a prediction took for each area we scanned. So, like we found previously, having fewer regions to process we can save valuable time but with the cost of potential loss of accuracy or precision"
   ]
  }
 ],
 "metadata": {
  "kernelspec": {
   "display_name": "Python 3",
   "language": "python",
   "name": "python3"
  },
  "language_info": {
   "codemirror_mode": {
    "name": "ipython",
    "version": 3
   },
   "file_extension": ".py",
   "mimetype": "text/x-python",
   "name": "python",
   "nbconvert_exporter": "python",
   "pygments_lexer": "ipython3",
   "version": "3.8.6"
  }
 },
 "nbformat": 4,
 "nbformat_minor": 4
}

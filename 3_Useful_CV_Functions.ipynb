{
 "cells": [
  {
   "cell_type": "markdown",
   "metadata": {},
   "source": [
    "# Useful functions for CV applications\n",
    "This notebook has a number of useful functions to refer to for doing various CV tasks"
   ]
  },
  {
   "cell_type": "markdown",
   "metadata": {},
   "source": [
    "### Create Path Dictionary\n",
    "This function will take in a folder path along with child folders to read in image data. Valid extensions can be set so only those images meeting those requirements will be read"
   ]
  },
  {
   "cell_type": "code",
   "execution_count": null,
   "metadata": {},
   "outputs": [],
   "source": [
    "import os\n",
    "\n",
    "# Examples of variables to pass to the following function\n",
    "folder_path = '<your path>'\n",
    "folder_list = ['A', 'B', 'C', 'D', 'E']\n",
    "valid_extensions = ['.jpg', '.png']\n",
    "\n",
    "# Requires all the paths and validity checks as input\n",
    "# outputs a dictionary with the key value being the folder name\n",
    "# and a list of [list of files]\n",
    "def createPathDict (folder_path, folder_list, valid_extensions):\n",
    "    \n",
    "    pathDict = {}\n",
    "    \n",
    "    for name in folder_list:\n",
    "        # crazy single liner\n",
    "        # adds a list of class file names to the dictionary of paths for that class, only if it is a file\n",
    "        # and it has an extensions matching the valid extensions list, ruling out non image types\n",
    "        class_list = [folder_path + '/' + name + '/' + f for f in os.listdir(folder_path + '/' + name) if os.path.isfile(os.path.join(folder_path + '/' + name, f)) for i in valid_extensions if f.endswith(i) > 0]\n",
    "        pathDict[name] = class_list\n",
    "    \n",
    "    return pathDict"
   ]
  },
  {
   "cell_type": "markdown",
   "metadata": {},
   "source": [
    "### Face Detection function \n",
    "Quick function to use in conjunction with the previously mentioned path dictionary. Quickly identifies faces found in the images and returns a dictionary with folder: imagename: [image, faces]"
   ]
  },
  {
   "cell_type": "code",
   "execution_count": 2,
   "metadata": {},
   "outputs": [],
   "source": [
    "import os\n",
    "import cv2\n",
    "\n",
    "OPENCV_PATH = \"/usr/local/lib/python3.6/dist-packages/cv2/data\"\n",
    "faceXML = os.path.join(OPENCV_PATH,'haarcascade_frontalface_default.xml')\n",
    "faceCascade = cv2.CascadeClassifier(faceXML)\n",
    "\n",
    "# cycles through a dictionary of paths as found in the functions previous\n",
    "# outputs a dictionary in the form of {folder: {imagename: [image, face rectangle]}}\n",
    "def processImagesFromPathDict(faceCascade, pathDict, scaleFactor=1.1, minNeighbors=8):\n",
    "    imageDictionary = {}\n",
    "    for key in pathDict:\n",
    "        imageDictionary[key] = {}\n",
    "        for value in pathDict[key]:\n",
    "            imageFile = value\n",
    "            filename = value.split('/')[-1]\n",
    "            # Reads image into RGB for histogram comparison\n",
    "            img = cv2.imread(imageFile)\n",
    "            img_rgb = cv2.cvtColor(img, cv2.COLOR_BGR2RGB)\n",
    "            faces = faceCascade.detectMultiScale(img_rgb, scaleFactor=scaleFactor, minNeighbors=minNeighbors)\n",
    "            imageDictionary[key][filename] = (img_rgb, faces)  \n",
    "    return imageDictionary"
   ]
  },
  {
   "cell_type": "markdown",
   "metadata": {},
   "source": [
    "### Slice images of faces\n",
    "Used in conjunction with the above functions to slice the image array into just the face data for processing. Drastically reduces compute complexity by only processing a smaller area."
   ]
  },
  {
   "cell_type": "code",
   "execution_count": 3,
   "metadata": {},
   "outputs": [],
   "source": [
    "# pretty agressive function name\n",
    "def sliceFace(imageDict):\n",
    "    faceDict = {}\n",
    "    for foldername in imageDict:\n",
    "        faceDict[foldername] = {}\n",
    "        for imageName in imageDict[foldername]:\n",
    "            faceDict[foldername][imageName] = []\n",
    "            faceData = imageDict[foldername][imageName][1]\n",
    "            for (x,y,w,h) in faceData:\n",
    "                rectangle = x,y,w,h\n",
    "                faceimg = imageDict[foldername][imageName][0][y:y+h, x:x+w]\n",
    "                faceDict[foldername][imageName].append((faceimg, rectangle))\n",
    "   \n",
    "    return faceDict"
   ]
  },
  {
   "cell_type": "markdown",
   "metadata": {},
   "source": []
  },
  {
   "cell_type": "code",
   "execution_count": null,
   "metadata": {},
   "outputs": [],
   "source": []
  }
 ],
 "metadata": {
  "kernelspec": {
   "display_name": "Python 3",
   "language": "python",
   "name": "python3"
  },
  "language_info": {
   "codemirror_mode": {
    "name": "ipython",
    "version": 3
   },
   "file_extension": ".py",
   "mimetype": "text/x-python",
   "name": "python",
   "nbconvert_exporter": "python",
   "pygments_lexer": "ipython3",
   "version": "3.8.6"
  }
 },
 "nbformat": 4,
 "nbformat_minor": 4
}

{
 "cells": [
  {
   "cell_type": "markdown",
   "metadata": {},
   "source": [
    "# Machine Learning Basics\n",
    "This notbook focuses on small concepts related to machine learning to illustrate the way the basic algorithms work. Each cell features a script that explains some of these more simple concepts related to basic learning"
   ]
  },
  {
   "cell_type": "markdown",
   "metadata": {},
   "source": [
    "### Calculate Feature Windows\n",
    "This function does a quick calculation of the number of calculations required given an image size and feature windows that fit within the image size using a sliding window approach."
   ]
  },
  {
   "cell_type": "code",
   "execution_count": 1,
   "metadata": {},
   "outputs": [
    {
     "name": "stdout",
     "output_type": "stream",
     "text": [
      "Calculations Required:  300516\n"
     ]
    }
   ],
   "source": [
    "# function calculates the number of feature windows needed\n",
    "# to calculate for the given image and window size\n",
    "# requires two lists, [width, height]\n",
    "def featureWindows(imgSize, windowSize):\n",
    "    \n",
    "    coordList = []\n",
    "    calcRequired = 0\n",
    "    for y in range(0, imgSize[1] - windowSize[1]):\n",
    "        for x in range(0, imgSize[0] - windowSize[0]):\n",
    "            coordList.append((x, y))\n",
    "            calcRequired += 1\n",
    "    \n",
    "    return calcRequired, coordList\n",
    "\n",
    "imgSize = [640, 480]\n",
    "windowSize = [6, 6]\n",
    "calcRequired, coordList = featureWindows(imgSize, windowSize)\n",
    "print('Calculations Required: ', calcRequired)"
   ]
  },
  {
   "cell_type": "markdown",
   "metadata": {},
   "source": [
    "### Integral Image\n",
    "This is a useful concept to be familiar with for CV applications. An integral image computes the integral up until that given point in the input array. It allows later computations to be accelerated using these points.\n",
    "\n",
    "More information here: [Summed Area Table](https://en.wikipedia.org/wiki/Summed-area_table)"
   ]
  },
  {
   "cell_type": "code",
   "execution_count": 3,
   "metadata": {},
   "outputs": [
    {
     "name": "stdout",
     "output_type": "stream",
     "text": [
      "[12, 24, 160, 296, 432, 568, 568, 568]\n",
      "[24, 48, 320, 592, 864, 1136, 1136, 1136]\n",
      "[36, 72, 356, 640, 912, 1184, 1184, 1184]\n",
      "[136, 272, 568, 864, 1136, 1408, 1408, 1408]\n",
      "[236, 472, 868, 1264, 1584, 1904, 1952, 2000]\n",
      "[336, 672, 1168, 1664, 2032, 2400, 2496, 2592]\n",
      "[436, 872, 1468, 2064, 2532, 3000, 3144, 3288]\n",
      "[536, 1072, 1768, 2464, 3032, 3600, 3792, 3984]\n"
     ]
    }
   ],
   "source": [
    "imageList = [\n",
    "        [12, 12, 136, 136, 136, 136, 0, 0], \n",
    "        [12, 12, 136, 136, 136, 136, 0, 0], \n",
    "        [12, 12, 12, 12, 0, 0, 0, 0], \n",
    "        [100, 100, 12, 12, 0, 0, 0, 0],\n",
    "        [100, 100, 100, 100, 48, 48, 48, 48],\n",
    "        [100, 100, 100, 100, 48, 48, 48, 48],\n",
    "        [100, 100, 100, 100, 100, 100, 48, 48],\n",
    "        [100, 100, 100, 100, 100, 100, 48, 48]]\n",
    "\n",
    "def integral_image(imageList):\n",
    "    integralList = []\n",
    "    for j in range(0, len(imageList)):\n",
    "        integralList.append([0 for i in range(0, len(imageList[0]))])\n",
    "\n",
    "    for col in range(0, len(imageList)):\n",
    "        for row in range(0, len(imageList[col])):\n",
    "            if (col > 0) and (row > 0):\n",
    "                integralList[col][row] = integralList[col-1][row] + integralList[col][row-1] + imageList[col][row] - integralList[col-1][row-1]\n",
    "            elif (col > 0):\n",
    "                integralList[col][row] = integralList[col-1][row] + imageList[col][row]\n",
    "            elif (row > 0):\n",
    "                integralList[col][row] = integralList[col][row-1] + imageList[col][row]\n",
    "            else:\n",
    "                integralList[col][row] = imageList[col][row]\n",
    "    \n",
    "    return integralList\n",
    "\n",
    "integral = integral_image(imageList)\n",
    "for row in integral:\n",
    "    print(row)"
   ]
  },
  {
   "cell_type": "markdown",
   "metadata": {},
   "source": [
    "### Calculate Euclidean Distance\n",
    "Very basic explanation of calculating Euclidean distance between two points. This concept will be used in many of the following examples"
   ]
  },
  {
   "cell_type": "code",
   "execution_count": 31,
   "metadata": {},
   "outputs": [
    {
     "name": "stdout",
     "output_type": "stream",
     "text": [
      "Points: [2, 1] [2, 1]\n",
      "Distance: 0\n",
      "Points: [2, 1] [4.66, 1]\n",
      "Distance: 7.0756000000000006\n",
      "Points: [3, 1] [2, 1]\n",
      "Distance: 1\n",
      "Points: [3, 1] [4.66, 1]\n",
      "Distance: 2.7556000000000003\n",
      "Points: [5, 2] [2, 1]\n",
      "Distance: 10\n",
      "Points: [5, 2] [4.66, 1]\n",
      "Distance: 1.1156\n",
      "Points: [6, 0] [2, 1]\n",
      "Distance: 17\n",
      "Points: [6, 0] [4.66, 1]\n",
      "Distance: 2.7955999999999994\n"
     ]
    }
   ],
   "source": [
    "# calculate the distance between two points\n",
    "def distance(pointA, pointB):\n",
    "    X = (pointA[0] - pointB[0])**2\n",
    "    Y = (pointA[1] - pointB[1])**2\n",
    "\n",
    "    return X+Y\n",
    "\n",
    "points = [[2, 1],[3,1],[5,2],[6,0]]\n",
    "centroids = [[2,1], [4.66,1]]\n",
    "\n",
    "for point in points:\n",
    "    for centroid in centroids:\n",
    "        print('Points: ', end='')\n",
    "        print(point, centroid)\n",
    "        print('Distance: ', end='')\n",
    "        print(distance(point, centroid))"
   ]
  },
  {
   "cell_type": "markdown",
   "metadata": {},
   "source": [
    "### KMeans Clustering Demo\n",
    "The following cell features a function to calculate the K-Means of a data set. It has all the associated helper functions along with it for better illustration.\n",
    "K-Means works its way across a data set calculating centroids found in the data, with the number of centroids given by k. The more centroids, the more specific their locations will become\n",
    "\n",
    "More info at: [K Means Clustering](https://en.wikipedia.org/wiki/K-means_clustering)"
   ]
  },
  {
   "cell_type": "code",
   "execution_count": 16,
   "metadata": {},
   "outputs": [
    {
     "data": {
      "image/png": "[encoded data removed]",
      "text/plain": [
       "<Figure size 432x288 with 1 Axes>"
      ]
     },
     "metadata": {
      "needs_background": "light"
     },
     "output_type": "display_data"
    }
   ],
   "source": [
    "from math import sqrt\n",
    "import numpy as np\n",
    "import copy\n",
    "import matplotlib.pyplot as plt\n",
    "\n",
    "# calculate the euclidean distance between two points\n",
    "# can be any number of dimensions\n",
    "# expects last list value to be classification\n",
    "def calculateDistance(point1, point2):\n",
    "    distance = 0\n",
    "    for i in range(0, len(point1)):\n",
    "        distance += (point1[i] - point2[i])**2\n",
    "\n",
    "    distance = sqrt(distance)\n",
    "    return distance\n",
    "\n",
    "def transposeList(lst):\n",
    "    return list(zip(*lst))\n",
    "\n",
    "def calculateCentroid(affinityList, data):\n",
    "\n",
    "    tempData = copy.deepcopy(data)\n",
    "\n",
    "    centroid = [0 for i in range(0, len(tempData[0])-1)]\n",
    "\n",
    "    for i in range(0, len(tempData)):\n",
    "        for j in range(0, len(tempData[i]) - 1):\n",
    "            tempData[i][j] = affinityList[i] * tempData[i][j]\n",
    "\n",
    "    tempData = transposeList(tempData)\n",
    "\n",
    "    for i in range(0, len(tempData)-1):\n",
    "        try:\n",
    "            centroid[i] += sum(tempData[i]) / sum(affinityList)\n",
    "        except:\n",
    "            centroid[i] = 0\n",
    "\n",
    "    return centroid\n",
    "\n",
    "def getCentroids(data, k, iter):\n",
    "\n",
    "    centAffinity = []\n",
    "    # seed centroid location with first k values in the data list\n",
    "    centroids = [data[j][:-1] for j in range(0, k)]\n",
    "\n",
    "    for i in range(0, iter):\n",
    "        centDist = []\n",
    "\n",
    "        for centroid in centroids:\n",
    "            distList = []\n",
    "            for d in data:\n",
    "                distList.append(calculateDistance(centroid, d[:-1]))\n",
    "            centDist.append(distList)\n",
    "\n",
    "        # transpose the list of distances\n",
    "        centDist = transposeList(centDist)\n",
    "        for column in centDist:\n",
    "            for row in column:\n",
    "                columnAffinity = [1 if row == min(column) else 0 for row in column ]\n",
    "            centAffinity.append(columnAffinity)\n",
    "\n",
    "        # transpose list into rows = centroids\n",
    "        centAffinity = transposeList(centAffinity)\n",
    "        \n",
    "        # calculate new centroids\n",
    "        centroids = [calculateCentroid(list, data) for list in centAffinity]\n",
    "\n",
    "    return centroids\n",
    "\n",
    "# data set\n",
    "D = [[3,13,0],[2.75,5,0],[3.5,1,0],[3.75,9,0],[1,9,1],[1.5,5,1],[5.5,1,1],[5.25,5,1],[6.5,9,1],[6,13,1]]\n",
    "\n",
    "centroids = getCentroids(D, 2, 10)\n",
    "\n",
    "# plot the points\n",
    "fig, ax = plt.subplots()\n",
    "x = [D[i][0] for i in range(0, len(D))]\n",
    "y = [D[i][1] for i in range(0, len(D))]\n",
    "scatter = ax.scatter(x, y, c='blue', alpha=0.8, edgecolors='none', label='data')\n",
    "x = [centroids[i][0] for i in range(0, len(centroids))]\n",
    "y = [centroids[i][1] for i in range(0, len(centroids))]\n",
    "ax.scatter(x, y, c='red', alpha=1, edgecolors='none', label='centroids')\n",
    "ax.legend()\n",
    "ax.grid(True)\n",
    "\n",
    "plt.savefig(\"out.png\")"
   ]
  },
  {
   "cell_type": "markdown",
   "metadata": {},
   "source": [
    "### K Nearest Neighbor Demo\n",
    "Another basic but important concept in identifying how data is connected.\n",
    "The function getNeighbors will calculate the distance between a new point and all existing points in the data set and return these distances to these nearest neighbors. The number of neighbors returned is dicated by \"k\"\n",
    "KNN will calculate the consensus of the type given by the data. If the data is split between what a 'dog' and 'cat' are, it will calculate how many of its neighbors are of which type and return the consensus on that type. If no consensus is able to be reached it returns -1.\n",
    "\n",
    "For more info: [KNN](https://en.wikipedia.org/wiki/K-nearest_neighbors_algorithm)"
   ]
  },
  {
   "cell_type": "code",
   "execution_count": 28,
   "metadata": {},
   "outputs": [
    {
     "name": "stdout",
     "output_type": "stream",
     "text": [
      "Nearest neighbors distance from the new point:\n",
      "[[0.5, 0], [2.5, 1], [4.00780488547035, 0], [4.272001872658765, 1]]\n",
      "Class consensus based on nearest neighbors\n",
      "0\n"
     ]
    }
   ],
   "source": [
    "from math import sqrt\n",
    "import numpy as np\n",
    "from collections import Counter\n",
    "\n",
    "# calculate the euclidean distance between two points\n",
    "# can be any number of dimensions\n",
    "# expects last list value to be classification\n",
    "def calculateDistance(point1, point2):\n",
    "    distance = 0\n",
    "    for i in range(0, len(point1)):\n",
    "        distance += (point1[i] - point2[i])**2\n",
    "\n",
    "    distance = sqrt(distance)\n",
    "    return distance\n",
    "\n",
    "# calculate the nearest neighbors to a new point submitted\n",
    "# requires a new point with the same dimensions as previous points\n",
    "# data is a list of existing points\n",
    "# k, the number of neigbors to return in a list\n",
    "def getNeighbors(newPoint, data, k):\n",
    "    distanceList = []\n",
    "\n",
    "    for points in data:\n",
    "        distance = calculateDistance(newPoint, points)\n",
    "        distanceList.append([distance, points[-1]])\n",
    "\n",
    "    distanceList.sort()\n",
    "    neighbors = [distanceList[i] for i in range(0, k)]\n",
    "\n",
    "    return neighbors\n",
    "\n",
    "# calculates the distance between all data points and the new point\n",
    "# then for k points counts the ones with the majority\n",
    "# returns top classification, -1 if inconclusive\n",
    "def getKNN(newPoint, data, k):\n",
    "\n",
    "    topCount = 0\n",
    "\n",
    "    neighbors = getNeighbors(newPoint, data, k)\n",
    "\n",
    "    topNeighbors = [i[-1] for i in neighbors]\n",
    "    neighborCount = Counter(topNeighbors)\n",
    "    {k: v for k, v in sorted(neighborCount.items(), key=lambda item: item[1])}\n",
    "\n",
    "    for k, v in neighborCount.items():\n",
    "        if v == topCount:\n",
    "            return -1\n",
    "        if v > topCount:\n",
    "            topCount = v\n",
    "            topNeighbor = k\n",
    "\n",
    "    return topNeighbor\n",
    "\n",
    "D = [[3,13,0],[2.75,5,0],[3.5,1,0],[3.75,9,0],[1,9,1],[1.5,5,1],[5.5,1,1],[5.25,5,1],[6.5,9,1],[6,13,1]]\n",
    "\n",
    "Dneighbors = getNeighbors([3,1], D, 4)\n",
    "print('Nearest neighbors distance from the new point:')\n",
    "print(Dneighbors)\n",
    "Dneighbors = getKNN([3,1], D, 3)\n",
    "print('Class consensus based on nearest neighbors')\n",
    "print(Dneighbors)\n"
   ]
  },
  {
   "cell_type": "markdown",
   "metadata": {},
   "source": [
    "### Intersection of Union\n",
    "This concept calculates the percentage boxes overlap one another. Commonly used in bounding box calculations for removing redundant boxes via other means.\n",
    "The algorithm calculates the intersection of two boxes divided by the union of the two boxes. \n",
    "\n",
    "More can be found here: [IOU](https://www.pyimagesearch.com/2016/11/07/intersection-over-union-iou-for-object-detection/#:~:text=What%20is%20Intersection%20over%20Union,the%20popular%20PASCAL%20VOC%20challenge)"
   ]
  },
  {
   "cell_type": "code",
   "execution_count": 27,
   "metadata": {},
   "outputs": [
    {
     "name": "stdout",
     "output_type": "stream",
     "text": [
      "IOU Calculation of the two boxes:\n",
      "0.11957142857142856\n"
     ]
    }
   ],
   "source": [
    "# receives in two lists of tuples\n",
    "# [(min corner), (max corner)]\n",
    "def IOU(ground_truth, prediction):\n",
    "    \n",
    "    # find our min/max values of the corners to find differences for intersection\n",
    "    minX = min(ground_truth[1][0], prediction[1][0])\n",
    "    minY = min(ground_truth[1][1], prediction[1][1])\n",
    "\n",
    "    maxX = max(ground_truth[0][0], prediction[0][0])\n",
    "    maxY = max(ground_truth[0][1], prediction[0][1])\n",
    "\n",
    "    # max calculation catches if there is no intersection\n",
    "    intArea = max(0, (minX - maxX)) * max(0, (minY - maxY))\n",
    "\n",
    "    # calculate the area of the two rectangles using the differences beterrn corners\n",
    "    truthArea = (ground_truth[1][0] - ground_truth[0][0]) * (ground_truth[1][1] - ground_truth[0][1])\n",
    "    predictArea = (prediction[1][0] - prediction[0][0]) * (prediction[1][1] - prediction[0][1])\n",
    "\n",
    "    # union area equals both areas minus intersection area\n",
    "    unionArea = truthArea + predictArea - intArea\n",
    "\n",
    "    return(intArea/unionArea)\n",
    "\n",
    "box1 = [(268, 75), (392, 237)]\n",
    "box2 = [(0, 0), (500, 336)]\n",
    "\n",
    "score = IOU(box1, box2)\n",
    "print('IOU Calculation of the two boxes:')\n",
    "print(score)"
   ]
  },
  {
   "cell_type": "markdown",
   "metadata": {},
   "source": [
    "### Non Max Supression\n",
    "This algorithm is used to rule out the redundant bounding boxes mentioned previously. By setting a threshold of what boxes are relevant and which are not, this will rule out those that are less relevant and leave only the most probablistic boxes left. It refers to the above function so make sure to run that cell first.\n",
    "\n",
    "More info here: [Non max supression](https://towardsdatascience.com/non-maximum-suppression-nms-93ce178e177c)"
   ]
  },
  {
   "cell_type": "code",
   "execution_count": 23,
   "metadata": {},
   "outputs": [
    {
     "name": "stdout",
     "output_type": "stream",
     "text": [
      "Boxes found with 70% probability threshold:\n",
      "[[268, 75, 392, 237], [173, 0, 431, 284], [0, 0, 415, 289], [289, 65, 381, 197], [79, 0, 354, 268], [199, 63, 430, 275], [0, 0, 319, 237], [268, 67, 430, 275]]\n",
      "Boxes found with 25% probability threshold:\n",
      "[[268, 75, 392, 237], [0, 0, 415, 289]]\n"
     ]
    }
   ],
   "source": [
    "def nonmax_supression(B, S, N):\n",
    "    \n",
    "    indexes = np.argsort(S)\n",
    "    returnList = []\n",
    "    \n",
    "    while len(indexes) > 0:\n",
    "        \n",
    "        i = int(indexes[-1:])\n",
    "        indexes = np.delete(indexes, len(indexes)-1)\n",
    "        returnList.append(i)\n",
    "        \n",
    "        popList = []\n",
    "        # loop through the remaining indexes to compared to\n",
    "        for j in range(0, len(indexes)):\n",
    "            index = indexes[j]\n",
    "            # create list of tuples to send to the previously designed IOU function\n",
    "            box1 = [(boxes[index][0], boxes[index][1]), (boxes[index][2], boxes[index][3])]\n",
    "            box2 = [(boxes[i][0], boxes[i][1]), (boxes[i][2], boxes[i][3])]\n",
    "            score = IOU(box1, box2)\n",
    "            if score > N:\n",
    "                # append index that greater than our threshold for later deletion\n",
    "                popList.append(j)\n",
    "        \n",
    "        # delete the indexes we've found to not meet threshold\n",
    "        indexes = np.delete(indexes, popList, None)\n",
    "    \n",
    "    # create a new list of boxes to return that have met the requirements\n",
    "    boxReturn = []\n",
    "    for index in returnList:\n",
    "        boxReturn.append(B[index])\n",
    "        \n",
    "    return boxReturn\n",
    "\n",
    "boxes = [[268, 75, 392, 237],\n",
    " [0, 0, 500, 336],\n",
    " [203, 0, 431, 284],\n",
    " [289, 65, 381, 197],\n",
    " [173, 0, 431, 284],\n",
    " [0, 0, 415, 289],\n",
    " [241, 63, 392, 228],\n",
    " [268, 67, 430, 275],\n",
    " [79, 0, 354, 268],\n",
    " [289, 64, 381, 199],\n",
    " [0, 0, 319, 237],\n",
    " [199, 63, 430, 275]]\n",
    "\n",
    "proba = [0.97811913, 0.9398855, 0.9236125, 0.958151, 0.97202075, 0.96799225,\n",
    " 0.90226144, 0.91915226, 0.9557671, 0.928843, 0.9433805, 0.94493186]\n",
    "\n",
    "boxList = nonmax_supression(boxes, proba, 0.7)\n",
    "print('Boxes found with 70% probability threshold:')\n",
    "print(boxList)\n",
    "boxList = nonmax_supression(boxes, proba, 0.25)\n",
    "print('Boxes found with 25% probability threshold:')\n",
    "print(boxList)"
   ]
  },
  {
   "cell_type": "markdown",
   "metadata": {},
   "source": [
    "### Common Network Activation Functions\n",
    "The following cells demonstrate the basic differences between two very common activation functions, ReLU and sigmoid. \n",
    "\n",
    "More information about these here: [Activation Functions](https://en.wikipedia.org/wiki/Activation_function)"
   ]
  },
  {
   "cell_type": "code",
   "execution_count": 6,
   "metadata": {},
   "outputs": [],
   "source": [
    "import numpy as np\n",
    "import math\n",
    "\n",
    "def sigmoid (number):\n",
    "    return (1/(1 + math.exp(-number)))\n",
    "\n",
    "def ReLU (number):\n",
    "    if number > 0:\n",
    "        return number\n",
    "    else:\n",
    "        return 0"
   ]
  },
  {
   "cell_type": "code",
   "execution_count": 7,
   "metadata": {},
   "outputs": [
    {
     "name": "stdout",
     "output_type": "stream",
     "text": [
      "[[0.76852478 0.7957597  0.82053848 0.84290453 0.7105434  0.71916065]]\n",
      "[[1.2    1.36   1.52   1.68   1.418  1.4856]]\n"
     ]
    }
   ],
   "source": [
    "def calculateWeights (inputArray, function=sigmoid):\n",
    "    \n",
    "    # create matrices for weight calculation\n",
    "    hiddenWeights = np.linspace(0.01, 0.12, 12).reshape((4,3), order='F')\n",
    "    outputWeights = np.linspace(0.17, 0.24, 8).reshape((2, 4), order='F')\n",
    "    nodeBias = np.linspace(0.13, 0.16, 4).reshape((4, 1))\n",
    "    outputBias = np.array([0.25, 0.26]).reshape((2,1))\n",
    "    \n",
    "    # make out matrix multiplications and additions\n",
    "    nodes = np.matmul(hiddenWeights, inputArray) + nodeBias\n",
    "    # run the designated function across the array and reshape\n",
    "    nodes = np.array([function(xi) for xi in nodes]).reshape(4,1)\n",
    "\n",
    "    output = np.matmul(outputWeights, nodes) + outputBias\n",
    "    output = np.array([function(xi) for xi in output]).reshape(2,1)\n",
    "    \n",
    "    # return a concatenated list of the node values\n",
    "    return np.concatenate((nodes.T, output.T), axis=1)\n",
    "\n",
    "input = np.array([1, 5, 9]).reshape(3, 1)\n",
    "\n",
    "results1 = calculateWeights(input)\n",
    "results2 = calculateWeights(input, function=ReLU)\n",
    "print(results1)\n",
    "print(results2)"
   ]
  },
  {
   "cell_type": "markdown",
   "metadata": {},
   "source": [
    "### Results\n",
    "| Function | Node1 | Node2 | Node3 | Node4 | Output1 | Output2 |\n",
    "| ------ | ----- | ----- | ----- | ----- | ----- | ----- |\n",
    "|   Sigmoid  | 0.768 | 0.795 | 0.820 | 0.842 | 0.710 | 0.719 |\n",
    "|   ReLU  | 1.2 | 1.36 | 1.52 | 1.68 | 1.418 | 1.486 |"
   ]
  },
  {
   "cell_type": "code",
   "execution_count": null,
   "metadata": {},
   "outputs": [],
   "source": []
  }
 ],
 "metadata": {
  "kernelspec": {
   "display_name": "Python 3",
   "language": "python",
   "name": "python3"
  },
  "language_info": {
   "codemirror_mode": {
    "name": "ipython",
    "version": 3
   },
   "file_extension": ".py",
   "mimetype": "text/x-python",
   "name": "python",
   "nbconvert_exporter": "python",
   "pygments_lexer": "ipython3",
   "version": "3.8.6"
  }
 },
 "nbformat": 4,
 "nbformat_minor": 4
}

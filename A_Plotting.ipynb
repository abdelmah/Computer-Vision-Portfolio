{
 "cells": [
  {
   "cell_type": "code",
   "execution_count": 2,
   "metadata": {},
   "outputs": [],
   "source": [
    "# Simple plotting function to plot one list of data\n",
    "# input data and x_axis of equal length\n",
    "# title for the plot\n",
    "# axisLabels - list of index 0 - x-axis and 1 y-axis\n",
    "def simple_plot (data, x_axis, title, axisLabels):\n",
    "    \n",
    "    xData = np.array(x_axis)\n",
    "    yData = np.array(data)\n",
    "    \n",
    "    fig, ax = plt.subplots()\n",
    "    ax.plot(xData, yData, '-o')\n",
    "    ax.set(xlabel=axisLabels[0], ylabel=axisLabels[1], title=title)\n",
    "    \n",
    "    plt.show()"
   ]
  },
  {
   "cell_type": "code",
   "execution_count": null,
   "metadata": {},
   "outputs": [],
   "source": [
    "# data is a list of lists, list index 0 is the first set of data, 1 second\n",
    "# x_axis shared x_axis between the two data points\n",
    "# title for the plot, label for the x axis\n",
    "# labels for each data point in the same index order as the data\n",
    "def plot_comparable_data(data, x_axis, title, axisLabel, labels):\n",
    "    plt.title(title)\n",
    "    plt.xlabel(axisLabel)\n",
    "    plt.plot(x_axis, data[0], color='orange', label=labels[0])\n",
    "    plt.plot(x_axis, data[1], color='blue', label=labels[1])\n",
    "    plt.legend()\n",
    "    plt.show()"
   ]
  },
  {
   "cell_type": "code",
   "execution_count": 3,
   "metadata": {},
   "outputs": [],
   "source": [
    "# Useful for plotting data against a constant value such as a threshold\n",
    "# data - your list of data, constant- your constantvalue, x_axis - list of values for x axis\n",
    "# title - title of the plot, axisLabels - list of labels for plots 0 - data, 1 - constant\n",
    "# labels - index 0 for data label, 1 for constant label\n",
    "def plot_against_constant(data, constant, x_axis, title, axisLabels, labels):\n",
    "    plt.title(title)\n",
    "    plt.xlabel(axisLabels[0])\n",
    "    plt.ylabel(axisLabels[1])\n",
    "    plt.plot(x_axis, data, color='orange', label=labels[0])\n",
    "    plt.plot(x_axis, [constant for x in range(0, len(data))], color='blue', label=labels[1])\n",
    "    plt.legend()\n",
    "    plt.show()"
   ]
  },
  {
   "cell_type": "code",
   "execution_count": null,
   "metadata": {},
   "outputs": [],
   "source": [
    "def plot_two_subplot_same_axis(data, x_axis, title, axisLabels, labels):\n",
    "    pyplot.subplot(2, 1, 1)\n",
    "    pyplot.title(title[0])\n",
    "    pyplot.xlabel(axisLabels[0])\n",
    "    pyplot.plot(x_axis, data[0], color='orange', label=labels[0])\n",
    "    pyplot.tight_layout(pad=2)\n",
    "    pyplot.subplot(2, 1, 2)\n",
    "    pyplot.title(title[1])\n",
    "    pyplot.xlabel(axisLabels[0])\n",
    "    pyplot.plot(x_axis, data[1], color='blue', label=labels[1])\n",
    "    pyplot.show()"
   ]
  }
 ],
 "metadata": {
  "kernelspec": {
   "display_name": "Python 3",
   "language": "python",
   "name": "python3"
  },
  "language_info": {
   "codemirror_mode": {
    "name": "ipython",
    "version": 3
   },
   "file_extension": ".py",
   "mimetype": "text/x-python",
   "name": "python",
   "nbconvert_exporter": "python",
   "pygments_lexer": "ipython3",
   "version": "3.8.6"
  }
 },
 "nbformat": 4,
 "nbformat_minor": 4
}
